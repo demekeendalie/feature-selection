{
 "cells": [
  {
   "cell_type": "code",
   "execution_count": 12,
   "metadata": {},
   "outputs": [
    {
     "name": "stdout",
     "output_type": "stream",
     "text": [
      "(2665, 405)\n",
      "0.31895899772644043\n",
      "0.6791744840525328\n",
      "[[29  1  0  2  0  0  3  0  4  1  4  1  0]\n",
      " [ 6 35  0  1  0  0  0  0  0  0  0  0  0]\n",
      " [ 0  0 37  2  1  0  2  0  0  1  0  0  0]\n",
      " [ 7  1  1 30  0  3  0  0  0  1  1  0  0]\n",
      " [ 0  0  0  4 37  0  2  0  0  0  1  2  0]\n",
      " [ 5  1  0  4  0 29  1  0  0  0  1  0  0]\n",
      " [ 6  0  0  4  1  1 31  0  0  2  0  1  1]\n",
      " [ 3  0  0  4  1  0  0 20  0  0  1  0  0]\n",
      " [ 3  0  0  0  0  2  0  0 36  1  0  0  0]\n",
      " [ 7  1  1  4  1  0  5  1  0 13  0  2  0]\n",
      " [16  4  1  4  1  0  1  0  0  1 12  1  1]\n",
      " [ 7  1  0  0  4  0  0  0  1  0  0 26  0]\n",
      " [ 6  1  0  1  0  1  0  1  0  0  1  0 27]]\n",
      "              precision    recall  f1-score   support\n",
      "\n",
      "           0       0.31      0.64      0.41        45\n",
      "           1       0.78      0.83      0.80        42\n",
      "           2       0.93      0.86      0.89        43\n",
      "           3       0.50      0.68      0.58        44\n",
      "           4       0.80      0.80      0.80        46\n",
      "           5       0.81      0.71      0.75        41\n",
      "           6       0.69      0.66      0.67        47\n",
      "           7       0.91      0.69      0.78        29\n",
      "           8       0.88      0.86      0.87        42\n",
      "           9       0.65      0.37      0.47        35\n",
      "          10       0.57      0.29      0.38        42\n",
      "          11       0.79      0.67      0.72        39\n",
      "          12       0.93      0.71      0.81        38\n",
      "\n",
      "    accuracy                           0.68       533\n",
      "   macro avg       0.73      0.67      0.69       533\n",
      "weighted avg       0.73      0.68      0.69       533\n",
      "\n"
     ]
    }
   ],
   "source": [
    "import sklearn\n",
    "import time\n",
    "from sklearn.neighbors import KNeighborsClassifier\n",
    "from sklearn import metrics\n",
    "from sklearn.externals import joblib\n",
    "from sklearn.model_selection import train_test_split\n",
    "from sklearn.svm import SVC\n",
    "from sklearn.decomposition import PCA\n",
    "import pandas as pd\n",
    "import numpy as np \n",
    "from sklearn.metrics import classification_report, confusion_matrix \n",
    "#df = pd.read_excel (r'C:\\Users\\pc\\Documents\\Newmodelfeature\\features\\full\\new13.xlsx')\n",
    "#dfn=df.sample(frac=1)\n",
    "#dfn.to_excel(r'C:\\Users\\pc\\Documents\\Newmodelfeature\\features\\full\\shuffle13.xlsx')\n",
    "sdf=pd.read_excel(r'C:\\Users\\pc\\Documents\\Newmodelfeature\\features\\full\\shuffle13.xlsx')\n",
    "#td=pd.read_excel (r'C:\\Users\\pc\\Documents\\Newmodelfeature\\features\\test.xlsx')\n",
    "X=sdf.iloc[:,:-1]\n",
    "print(X.shape)\n",
    "Y=sdf.iloc[:,-1]\n",
    "X_train, X_test, Y_train, Y_test = train_test_split(X, Y, test_size=0.2,shuffle=False)\n",
    "knn=KNeighborsClassifier(n_neighbors=3)\n",
    "start=time.time()\n",
    "knn.fit(X_train,Y_train)\n",
    "stop=time.time()\n",
    "print(stop-start)\n",
    "result=knn.score(X_test,Y_test)\n",
    "print(result)\n",
    "predictions = knn.predict(X_test) \n",
    "print(confusion_matrix(Y_test,predictions))  \n",
    "print(classification_report(Y_test,predictions)) "
   ]
  },
  {
   "cell_type": "code",
   "execution_count": null,
   "metadata": {},
   "outputs": [],
   "source": []
  }
 ],
 "metadata": {
  "kernelspec": {
   "display_name": "Python 3",
   "language": "python",
   "name": "python3"
  },
  "language_info": {
   "codemirror_mode": {
    "name": "ipython",
    "version": 3
   },
   "file_extension": ".py",
   "mimetype": "text/x-python",
   "name": "python",
   "nbconvert_exporter": "python",
   "pygments_lexer": "ipython3",
   "version": "3.7.6"
  }
 },
 "nbformat": 4,
 "nbformat_minor": 4
}
