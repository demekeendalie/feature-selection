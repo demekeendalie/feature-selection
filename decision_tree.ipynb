{
 "cells": [
  {
   "cell_type": "code",
   "execution_count": 5,
   "metadata": {},
   "outputs": [
    {
     "name": "stdout",
     "output_type": "stream",
     "text": [
      "(2665, 405)\n",
      "0.7470564842224121\n",
      "0.6697936210131332\n",
      "[[34  4  0  0  1  0  0  0  4  0  2  0  0]\n",
      " [ 3 37  0  0  0  1  0  0  0  1  0  0  0]\n",
      " [ 0  0 39  0  0  0  0  2  0  2  0  0  0]\n",
      " [ 0  0  2 27  1  2  2  1  0  4  5  0  0]\n",
      " [ 0  0  0  3 39  1  1  0  0  1  0  0  1]\n",
      " [ 0  0  0  3  0 20  1  1  5  4  0  1  6]\n",
      " [ 0  0  0  4  0  0 20  0  0 16  5  1  1]\n",
      " [ 1  0  2  0  3  1  0 20  0  0  2  0  0]\n",
      " [ 1  0  0  0  0  7  0  0 31  0  1  2  0]\n",
      " [ 0  0  0  5  1  0  7  3  0 14  2  0  3]\n",
      " [ 2  0  1  5  1  0  4  0  3  1 22  2  1]\n",
      " [ 0  0  0  0  4  2  0  0  1  1  1 26  4]\n",
      " [ 0  0  0  4  0  0  2  2  1  0  1  0 28]]\n",
      "              precision    recall  f1-score   support\n",
      "\n",
      "           0       0.83      0.76      0.79        45\n",
      "           1       0.90      0.88      0.89        42\n",
      "           2       0.89      0.91      0.90        43\n",
      "           3       0.53      0.61      0.57        44\n",
      "           4       0.78      0.85      0.81        46\n",
      "           5       0.59      0.49      0.53        41\n",
      "           6       0.54      0.43      0.48        47\n",
      "           7       0.69      0.69      0.69        29\n",
      "           8       0.69      0.74      0.71        42\n",
      "           9       0.32      0.40      0.35        35\n",
      "          10       0.54      0.52      0.53        42\n",
      "          11       0.81      0.67      0.73        39\n",
      "          12       0.64      0.74      0.68        38\n",
      "\n",
      "    accuracy                           0.67       533\n",
      "   macro avg       0.67      0.67      0.67       533\n",
      "weighted avg       0.68      0.67      0.67       533\n",
      "\n"
     ]
    }
   ],
   "source": [
    "import sklearn\n",
    "import time\n",
    "from sklearn.tree import DecisionTreeClassifier\n",
    "from sklearn import metrics\n",
    "from sklearn.model_selection import train_test_split\n",
    "import pandas as pd\n",
    "import numpy as np \n",
    "from sklearn.metrics import classification_report, confusion_matrix \n",
    "sdf=pd.read_excel(r'C:\\Users\\pc\\Documents\\Newmodelfeature\\features\\full\\shuffle13.xlsx')\n",
    "X=sdf.iloc[:,:-1]\n",
    "print(X.shape)\n",
    "Y=sdf.iloc[:,-1]\n",
    "X_train, X_test, Y_train, Y_test = train_test_split(X, Y, test_size=0.2,shuffle=False)\n",
    "dtc=DecisionTreeClassifier(criterion='entropy',random_state=0)\n",
    "start=time.time()\n",
    "dtc.fit(X_train,Y_train)  \n",
    "#filename='tree.sav'\n",
    "stop=time.time()\n",
    "print(stop-start)\n",
    "result=dtc.score(X_test,Y_test)\n",
    "print(result)\n",
    "predictions = dtc.predict(X_test) \n",
    "print(confusion_matrix(Y_test,predictions))  \n",
    "print(classification_report(Y_test,predictions))"
   ]
  },
  {
   "cell_type": "code",
   "execution_count": null,
   "metadata": {},
   "outputs": [],
   "source": []
  },
  {
   "cell_type": "code",
   "execution_count": null,
   "metadata": {},
   "outputs": [],
   "source": []
  }
 ],
 "metadata": {
  "kernelspec": {
   "display_name": "Python 3",
   "language": "python",
   "name": "python3"
  },
  "language_info": {
   "codemirror_mode": {
    "name": "ipython",
    "version": 3
   },
   "file_extension": ".py",
   "mimetype": "text/x-python",
   "name": "python",
   "nbconvert_exporter": "python",
   "pygments_lexer": "ipython3",
   "version": "3.7.6"
  }
 },
 "nbformat": 4,
 "nbformat_minor": 4
}
