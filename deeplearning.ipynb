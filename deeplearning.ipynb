{
 "cells": [
  {
   "cell_type": "code",
   "execution_count": 18,
   "metadata": {},
   "outputs": [],
   "source": [
    "import keras\n",
    "import pandas as pd\n",
    "import numpy as np\n",
    "from sklearn.svm import SVC\n",
    "from sklearn.metrics import confusion_matrix\n",
    "from sklearn.model_selection import train_test_split\n",
    "from sklearn.metrics import classification_report, confusion_matrix \n",
    "from keras.models import Sequential,Input,Model\n",
    "from keras.layers import Dense, Dropout, Flatten,Embedding\n",
    "from keras.layers import Conv2D, MaxPooling2D\n",
    "from keras.layers.normalization import BatchNormalization\n",
    "from keras.layers.advanced_activations import LeakyReLU\n",
    "from keras.models import load_model\n",
    "from keras.utils import to_categorical \n"
   ]
  },
  {
   "cell_type": "code",
   "execution_count": null,
   "metadata": {},
   "outputs": [],
   "source": [
    "dataset=pd.read_excel(r'C:/Users/pc/Desktop/all_in_one.xlsx')\n",
    "dataset=dataset.T"
   ]
  },
  {
   "cell_type": "code",
   "execution_count": 27,
   "metadata": {},
   "outputs": [
    {
     "data": {
      "text/plain": [
       "(1527, 25022)"
      ]
     },
     "metadata": {},
     "output_type": "display_data"
    },
    {
     "name": "stdout",
     "output_type": "stream",
     "text": [
      "(1527, 25021)\n",
      "0.1230     5.0\n",
      "0.3040    12.0\n",
      "0.2673    11.0\n",
      "0.2889    12.0\n",
      "0.2737    11.0\n",
      "0.2530    10.0\n",
      "0.1948     8.0\n",
      "0.2350    10.0\n",
      "0.2839    12.0\n",
      "0.2951    12.0\n",
      "Name: 25021, dtype: float64\n"
     ]
    }
   ],
   "source": [
    "df=dataset.loc[dataset.iloc[:,-1].isin(['a','b','c','d','e','f'])]\n",
    "df=df.sample(frac=1)\n",
    "display(df.shape)\n",
    "X=df.iloc[:,:-1]\n",
    "print(X.shape)\n",
    "Y=df.iloc[:,-1]\n",
    "print(Y.head(10))\n",
    "X_train, X_test, Y_train, Y_test = train_test_split(X, Y, test_size=0.2, shuffle=False)"
   ]
  },
  {
   "cell_type": "code",
   "execution_count": 28,
   "metadata": {},
   "outputs": [
    {
     "name": "stdout",
     "output_type": "stream",
     "text": [
      "(1221, 13)\n",
      "13\n"
     ]
    }
   ],
   "source": [
    "Y_train = to_categorical(Y_train)\n",
    "print(Y_train.shape)\n",
    "Y_test = to_categorical(Y_test)\n",
    "count_classes = Y_test.shape[1]\n",
    "print(count_classes)"
   ]
  },
  {
   "cell_type": "code",
   "execution_count": 26,
   "metadata": {},
   "outputs": [
    {
     "name": "stdout",
     "output_type": "stream",
     "text": [
      "Epoch 1/10\n",
      "40/40 [==============================] - 32s 53ms/step - loss: 28.6860 - accuracy: 0.5255\n",
      "Epoch 2/10\n",
      "40/40 [==============================] - 2s 44ms/step - loss: 72.0388 - accuracy: 0.8774\n",
      "Epoch 3/10\n",
      "40/40 [==============================] - 2s 42ms/step - loss: 128.8012 - accuracy: 0.8993\n",
      "Epoch 4/10\n",
      "40/40 [==============================] - 2s 46ms/step - loss: 536.4451 - accuracy: 0.9176\n",
      "Epoch 5/10\n",
      "40/40 [==============================] - 2s 40ms/step - loss: 125.1695 - accuracy: 0.9327\n",
      "Epoch 6/10\n",
      "40/40 [==============================] - 1s 37ms/step - loss: 0.3897 - accuracy: 0.9348\n",
      "Epoch 7/10\n",
      "40/40 [==============================] - 2s 40ms/step - loss: 134.7253 - accuracy: 0.9493\n",
      "Epoch 8/10\n",
      "40/40 [==============================] - 2s 42ms/step - loss: 146.3566 - accuracy: 0.9651\n",
      "Epoch 9/10\n",
      "40/40 [==============================] - 2s 38ms/step - loss: 0.1963 - accuracy: 0.9726\n",
      "Epoch 10/10\n",
      "40/40 [==============================] - 2s 39ms/step - loss: 0.1558 - accuracy: 0.9797\n",
      "10/10 [==============================] - 20s 15ms/step - loss: 0.3185 - accuracy: 0.9245\n",
      "0.9245283007621765\n",
      "0.318464994430542\n"
     ]
    }
   ],
   "source": [
    "\n",
    "model = Sequential()\n",
    "model.add(Dense(128, input_dim=25021, activation='relu'))\n",
    "model.add(Dropout(0.50))\n",
    "model.add(Dense(7, activation='softmax'))\n",
    " # Compile model\n",
    "model.compile(loss='categorical_crossentropy', optimizer='adam', metrics=['accuracy'])\n",
    "model.fit(X_train, Y_train, epochs=10)\n",
    "#model.save(\"my_model.h5\")\n",
    "test_loss,test_acc=model.evaluate(X_test,  Y_test)\n",
    "#data_test=pd.read_excel(r'C:\\Users\\pc\\Desktop\\Test data\\pre-processed\\Test data\\env_test.xlsx')\n",
    "#data_test=data_test.T\n",
    "#data_test=data_test.iloc[2:]\n",
    "#model=load_model(\"my_model.h5\")\n",
    "#label=model.predict_classes(data_test)\n",
    "#label=label.round()\n",
    "#print(label)\n",
    "print(test_acc)\n",
    "#model.summary()\n",
    "print(test_loss)\n"
   ]
  },
  {
   "cell_type": "code",
   "execution_count": null,
   "metadata": {},
   "outputs": [],
   "source": []
  }
 ],
 "metadata": {
  "kernelspec": {
   "display_name": "Python 3",
   "language": "python",
   "name": "python3"
  },
  "language_info": {
   "codemirror_mode": {
    "name": "ipython",
    "version": 3
   },
   "file_extension": ".py",
   "mimetype": "text/x-python",
   "name": "python",
   "nbconvert_exporter": "python",
   "pygments_lexer": "ipython3",
   "version": "3.7.6"
  }
 },
 "nbformat": 4,
 "nbformat_minor": 4
}
